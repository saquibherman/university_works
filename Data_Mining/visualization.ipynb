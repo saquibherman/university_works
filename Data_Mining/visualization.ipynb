{
 "cells": [
  {
   "cell_type": "code",
   "execution_count": 1,
   "id": "8edf169c",
   "metadata": {},
   "outputs": [
    {
     "name": "stderr",
     "output_type": "stream",
     "text": [
      "Setting default log level to \"WARN\".\n",
      "To adjust logging level use sc.setLogLevel(newLevel). For SparkR, use setLogLevel(newLevel).\n"
     ]
    },
    {
     "name": "stdout",
     "output_type": "stream",
     "text": [
      "You are working with 1 core(s)\n"
     ]
    },
    {
     "data": {
      "text/html": [
       "\n",
       "            <div>\n",
       "                <p><b>SparkSession - hive</b></p>\n",
       "                \n",
       "        <div>\n",
       "            <p><b>SparkContext</b></p>\n",
       "\n",
       "            <p><a href=\"http://cluster-smarthome-m.europe-north1-a.c.smarthome-326501.internal:44293\">Spark UI</a></p>\n",
       "\n",
       "            <dl>\n",
       "              <dt>Version</dt>\n",
       "                <dd><code>v3.1.2</code></dd>\n",
       "              <dt>Master</dt>\n",
       "                <dd><code>yarn</code></dd>\n",
       "              <dt>AppName</dt>\n",
       "                <dd><code>SmartHome</code></dd>\n",
       "            </dl>\n",
       "        </div>\n",
       "        \n",
       "            </div>\n",
       "        "
      ],
      "text/plain": [
       "<pyspark.sql.session.SparkSession at 0x7fa7a24da5e0>"
      ]
     },
     "execution_count": 1,
     "metadata": {},
     "output_type": "execute_result"
    }
   ],
   "source": [
    "from pyspark.sql import SparkSession\n",
    "from pyspark.sql import functions as func\n",
    "from pyspark.sql.types import DateType, IntegerType\n",
    "from datetime import datetime\n",
    "import pandas as pd\n",
    "import matplotlib.pyplot as plt\n",
    "import seaborn as sns\n",
    "\n",
    "spark = SparkSession.builder.appName(\"SmartHome\").getOrCreate()\n",
    "\n",
    "cores = spark._jsc.sc().getExecutorMemoryStatus().keySet().size()\n",
    "print(\"You are working with\", cores, \"core(s)\")\n",
    "spark"
   ]
  },
  {
   "cell_type": "code",
   "execution_count": 2,
   "id": "7235e214",
   "metadata": {},
   "outputs": [
    {
     "name": "stderr",
     "output_type": "stream",
     "text": [
      "                                                                                \r"
     ]
    },
    {
     "data": {
      "text/html": [
       "<div>\n",
       "<style scoped>\n",
       "    .dataframe tbody tr th:only-of-type {\n",
       "        vertical-align: middle;\n",
       "    }\n",
       "\n",
       "    .dataframe tbody tr th {\n",
       "        vertical-align: top;\n",
       "    }\n",
       "\n",
       "    .dataframe thead th {\n",
       "        text-align: right;\n",
       "    }\n",
       "</style>\n",
       "<table border=\"1\" class=\"dataframe\">\n",
       "  <thead>\n",
       "    <tr style=\"text-align: right;\">\n",
       "      <th></th>\n",
       "      <th>sensor_id</th>\n",
       "      <th>value_id</th>\n",
       "      <th>timestamp</th>\n",
       "      <th>value</th>\n",
       "      <th>node_id</th>\n",
       "      <th>type</th>\n",
       "      <th>name</th>\n",
       "    </tr>\n",
       "  </thead>\n",
       "  <tbody>\n",
       "    <tr>\n",
       "      <th>0</th>\n",
       "      <td>5891</td>\n",
       "      <td>60963123</td>\n",
       "      <td>2020-03-24 15:15:47.085843</td>\n",
       "      <td>0.0</td>\n",
       "      <td>541147</td>\n",
       "      <td>INT</td>\n",
       "      <td>livingroom/ambience/motion</td>\n",
       "    </tr>\n",
       "    <tr>\n",
       "      <th>1</th>\n",
       "      <td>5894</td>\n",
       "      <td>60963124</td>\n",
       "      <td>2020-03-24 15:15:47.159666</td>\n",
       "      <td>0.0</td>\n",
       "      <td>541150</td>\n",
       "      <td>INT</td>\n",
       "      <td>corridor/ambience/motion</td>\n",
       "    </tr>\n",
       "    <tr>\n",
       "      <th>2</th>\n",
       "      <td>5895</td>\n",
       "      <td>60963125</td>\n",
       "      <td>2020-03-24 15:15:47.167174</td>\n",
       "      <td>0.0</td>\n",
       "      <td>541151</td>\n",
       "      <td>INT</td>\n",
       "      <td>bathroom/ambience/motion</td>\n",
       "    </tr>\n",
       "    <tr>\n",
       "      <th>3</th>\n",
       "      <td>5889</td>\n",
       "      <td>60963126</td>\n",
       "      <td>2020-03-24 15:15:47.183545</td>\n",
       "      <td>325.0</td>\n",
       "      <td>541145</td>\n",
       "      <td>INT</td>\n",
       "      <td>livingroom/couch/pressure</td>\n",
       "    </tr>\n",
       "    <tr>\n",
       "      <th>4</th>\n",
       "      <td>5887</td>\n",
       "      <td>60963127</td>\n",
       "      <td>2020-03-24 15:15:47.242122</td>\n",
       "      <td>89.0</td>\n",
       "      <td>541143</td>\n",
       "      <td>INT</td>\n",
       "      <td>kitchen/stove/light</td>\n",
       "    </tr>\n",
       "    <tr>\n",
       "      <th>5</th>\n",
       "      <td>6253</td>\n",
       "      <td>60963130</td>\n",
       "      <td>2020-03-24 15:15:47.300435</td>\n",
       "      <td>0.0</td>\n",
       "      <td>541509</td>\n",
       "      <td>INT</td>\n",
       "      <td>kitchen/fridge/contact</td>\n",
       "    </tr>\n",
       "    <tr>\n",
       "      <th>6</th>\n",
       "      <td>6686</td>\n",
       "      <td>60963131</td>\n",
       "      <td>2020-03-24 15:15:47.391450</td>\n",
       "      <td>0.0</td>\n",
       "      <td>541885</td>\n",
       "      <td>INT</td>\n",
       "      <td>bedroom/ambience_under_the_bed/motion</td>\n",
       "    </tr>\n",
       "    <tr>\n",
       "      <th>7</th>\n",
       "      <td>6127</td>\n",
       "      <td>60963134</td>\n",
       "      <td>2020-03-24 15:15:47.642456</td>\n",
       "      <td>1024.0</td>\n",
       "      <td>541383</td>\n",
       "      <td>INT</td>\n",
       "      <td>livingroom/tv/light</td>\n",
       "    </tr>\n",
       "    <tr>\n",
       "      <th>8</th>\n",
       "      <td>5893</td>\n",
       "      <td>60963136</td>\n",
       "      <td>2020-03-24 15:15:47.675467</td>\n",
       "      <td>0.0</td>\n",
       "      <td>541149</td>\n",
       "      <td>INT</td>\n",
       "      <td>kitchen/ambience/motion</td>\n",
       "    </tr>\n",
       "    <tr>\n",
       "      <th>9</th>\n",
       "      <td>6220</td>\n",
       "      <td>60963137</td>\n",
       "      <td>2020-03-24 15:15:47.865781</td>\n",
       "      <td>0.0</td>\n",
       "      <td>541444</td>\n",
       "      <td>INT</td>\n",
       "      <td>balcon/door/contact</td>\n",
       "    </tr>\n",
       "  </tbody>\n",
       "</table>\n",
       "</div>"
      ],
      "text/plain": [
       "   sensor_id  value_id                   timestamp   value  node_id type  \\\n",
       "0       5891  60963123  2020-03-24 15:15:47.085843     0.0   541147  INT   \n",
       "1       5894  60963124  2020-03-24 15:15:47.159666     0.0   541150  INT   \n",
       "2       5895  60963125  2020-03-24 15:15:47.167174     0.0   541151  INT   \n",
       "3       5889  60963126  2020-03-24 15:15:47.183545   325.0   541145  INT   \n",
       "4       5887  60963127  2020-03-24 15:15:47.242122    89.0   541143  INT   \n",
       "5       6253  60963130  2020-03-24 15:15:47.300435     0.0   541509  INT   \n",
       "6       6686  60963131  2020-03-24 15:15:47.391450     0.0   541885  INT   \n",
       "7       6127  60963134  2020-03-24 15:15:47.642456  1024.0   541383  INT   \n",
       "8       5893  60963136  2020-03-24 15:15:47.675467     0.0   541149  INT   \n",
       "9       6220  60963137  2020-03-24 15:15:47.865781     0.0   541444  INT   \n",
       "\n",
       "                                    name  \n",
       "0             livingroom/ambience/motion  \n",
       "1               corridor/ambience/motion  \n",
       "2               bathroom/ambience/motion  \n",
       "3              livingroom/couch/pressure  \n",
       "4                    kitchen/stove/light  \n",
       "5                 kitchen/fridge/contact  \n",
       "6  bedroom/ambience_under_the_bed/motion  \n",
       "7                    livingroom/tv/light  \n",
       "8                kitchen/ambience/motion  \n",
       "9                    balcon/door/contact  "
      ]
     },
     "execution_count": 2,
     "metadata": {},
     "output_type": "execute_result"
    }
   ],
   "source": [
    "sensor = spark.read.parquet('gs://smarthome-326501/sensor_full.parquet')\n",
    "sensor.limit(10).toPandas()"
   ]
  },
  {
   "cell_type": "code",
   "execution_count": 3,
   "id": "936e27dc",
   "metadata": {},
   "outputs": [],
   "source": [
    "sensor = sensor.withColumn(\"timestamp\", func.to_timestamp(sensor.timestamp))"
   ]
  },
  {
   "cell_type": "code",
   "execution_count": 4,
   "id": "81b232a8",
   "metadata": {},
   "outputs": [],
   "source": [
    "active_threshold = {\n",
    "    'balcon/door/contact' : 0, # max:1, min:0\n",
    "    \n",
    "    'bathroom/ambience/humidity' : 50, # max:98.56, min:15.2\n",
    "    'bathroom/ambience/light' : 100, # max:1024, min:0\n",
    "    'bathroom/ambience/motion' : 0, # max:1, min:0\n",
    "    'bathroom/ambience/temperature' : 26, # max:29.23, min:21.13\n",
    "    'bathroom/washingmachine/current' : 9, # max:141616.557, min:-141616.565\n",
    "    \n",
    "    'bedroom/ambience/motion' : 0, # max:1, min:0\n",
    "    'bedroom/ambience_under_the_bed/motion' : 0, # max:1, min:0\n",
    "    'bedroom/bed/pressure' : 600, # max:687, min:480\n",
    "    'bedroom/weightscale/pressure' : 60, # max:293, min:0\n",
    "    \n",
    "    'corridor/ambience/motion' : 0, # max:1, min:0\n",
    "    'corridor/ilifeRobot/current' : 9, # max:137744.237, min:0 \n",
    "    \n",
    "    'entrance/door/contact' : 0, # max:1, min:0\n",
    "    \n",
    "    'kitchen/ambience/motion' : 0, # max:1, min:0\n",
    "    'kitchen/coffeemaker/current' : 1, # max:123914.494, min:0\n",
    "    'kitchen/dishwasher/current' : 10, # max:137744.237, min:0 \n",
    "    'kitchen/fridge/contact' : 0 , # max:1, min:0\n",
    "    'kitchen/kettle/current' : 9, # max:97361.388, min:0\n",
    "    'kitchen/microwave/current' : 9, # max:1343.936, min:0 \n",
    "    'kitchen/sandwichmaker/current' : 9, # max:137744.237, min:0 \n",
    "    'kitchen/stove/light' : 100, # max:1024, min:0,    \n",
    "       \n",
    "    'livingroom/ambience/motion' : 0, # max:1, min:0\n",
    "    'livingroom/couch/pressure' : 300, # max:449.0, min:0\n",
    "    'livingroom/tv/light' : 100 # max:1024, min:3,\n",
    "}"
   ]
  },
  {
   "cell_type": "code",
   "execution_count": 5,
   "id": "b6fa25dd",
   "metadata": {},
   "outputs": [],
   "source": [
    "class Smarthome:\n",
    "    instances = []\n",
    "    def __init__(self, name):\n",
    "        self.name = name\n",
    "        \n",
    "    def creare_dataframe(self):\n",
    "        self.dataframe = sensor.filter(sensor.name == self.name).select(['timestamp', 'value'])\n",
    "        self.dataframe = self.dataframe.withColumn(\"timestamp\", func.to_timestamp(self.dataframe .timestamp))\n",
    "        \n",
    "    def head(self, nrows=5):\n",
    "        return self.dataframe.limit(nrows).toPandas()\n",
    "    \n",
    "    def binarizer(self, threshold=0):\n",
    "        self.dataframe = self.dataframe.withColumn(\"value\", self.dataframe[\"value\"].cast(IntegerType()))\n",
    "        self.dataframe = self.dataframe.withColumn(\"value\", func.when(self.dataframe.value <= threshold,0).otherwise(1))\n",
    "        self.dataframe = self.dataframe.select('timestamp','value').sort(func.asc('timestamp'))\n",
    "        \n",
    "    def start_end_timestamp(self):\n",
    "        self.start = []\n",
    "        self.end = []\n",
    "        flag_one = 0\n",
    "        flag_two = 0\n",
    "        for row in self.dataframe.rdd.collect():\n",
    "            flag_two = row.value\n",
    "            if flag_one == 0 and flag_two == 1:\n",
    "                self.start.append(row.timestamp)\n",
    "            elif flag_one == 1 and flag_two == 0:\n",
    "                self.end.append(row.timestamp)\n",
    "    \n",
    "            flag_one = flag_two\n",
    "    \n",
    "    def extract_hour_minute(self):\n",
    "        self.hour = [self.start[i].hour for i in range(len(self.start))]\n",
    "        self.minute = [self.end[i].minute for i in range(len(self.end))]\n",
    "        \n",
    "    def display_heatmap(self, annot=True):\n",
    "        heatmap_df = pd.DataFrame(list(zip(self.hour, self.minute)), \\\n",
    "                                            columns =['hour', 'minute'])\n",
    "        heatmap_df = heatmap_df.groupby(heatmap_df.columns.tolist()).\\\n",
    "                                        size().reset_index().rename(columns={0:'count'})\n",
    "        heatmap_df = heatmap_df.pivot(\"minute\", \"hour\", \"count\")\n",
    "        f, ax = plt.subplots(figsize=(20, 12))\n",
    "        ax = sns.heatmap(heatmap_df,annot=annot, cmap=\"YlGnBu\")\n",
    "    \n"
   ]
  },
  {
   "cell_type": "code",
   "execution_count": 6,
   "id": "b0c60c96",
   "metadata": {},
   "outputs": [],
   "source": [
    "def process_sensor_data(sensor_object, sensor_name):\n",
    "    sensor_object.creare_dataframe()\n",
    "    sensor_object.binarizer(active_threshold[sensor_name])\n",
    "    sensor_object.start_end_timestamp()\n",
    "    sensor_object.extract_hour_minute()"
   ]
  },
  {
   "cell_type": "code",
   "execution_count": 7,
   "id": "032d2bae",
   "metadata": {},
   "outputs": [
    {
     "name": "stderr",
     "output_type": "stream",
     "text": [
      "                                                                                \r"
     ]
    },
    {
     "data": {
      "image/png": "[encoded data removed]",
      "text/plain": [
       "<Figure size 1440x864 with 2 Axes>"
      ]
     },
     "metadata": {
      "needs_background": "light"
     },
     "output_type": "display_data"
    }
   ],
   "source": [
    "sensor_name = 'balcon/door/contact'\n",
    "balcon_door_contact = Smarthome(sensor_name)\n",
    "process_sensor_data(balcon_door_contact, sensor_name)\n",
    "balcon_door_contact.display_heatmap()"
   ]
  },
  {
   "cell_type": "code",
   "execution_count": 8,
   "id": "bab4fe63",
   "metadata": {},
   "outputs": [],
   "source": [
    "sensor_name = 'bathroom/ambience/humidity'\n",
    "bathroom_ambience_humidity = Smarthome(sensor_name)\n",
    "bathroom_ambience_humidity.creare_dataframe()\n"
   ]
  },
  {
   "cell_type": "code",
   "execution_count": 9,
   "id": "921c53d6",
   "metadata": {},
   "outputs": [
    {
     "name": "stderr",
     "output_type": "stream",
     "text": [
      "                                                                                \r"
     ]
    },
    {
     "data": {
      "image/png": "[encoded data removed]",
      "text/plain": [
       "<Figure size 432x288 with 1 Axes>"
      ]
     },
     "metadata": {
      "needs_background": "light"
     },
     "output_type": "display_data"
    }
   ],
   "source": [
    "from pyspark_dist_explore import hist\n",
    "import matplotlib.pyplot as plt\n",
    "\n",
    "fig, ax = plt.subplots()\n",
    "hist(ax, bathroom_ambience_humidity.dataframe.select('value'), color=['blue'])\n",
    "plt.show()"
   ]
  },
  {
   "cell_type": "code",
   "execution_count": 10,
   "id": "416280e5",
   "metadata": {},
   "outputs": [
    {
     "name": "stderr",
     "output_type": "stream",
     "text": [
      "                                                                                \r"
     ]
    },
    {
     "data": {
      "image/png": "[encoded data removed]",
      "text/plain": [
       "<Figure size 1440x864 with 2 Axes>"
      ]
     },
     "metadata": {
      "needs_background": "light"
     },
     "output_type": "display_data"
    }
   ],
   "source": [
    "process_sensor_data(bathroom_ambience_humidity, sensor_name)\n",
    "bathroom_ambience_humidity.display_heatmap()"
   ]
  },
  {
   "cell_type": "code",
   "execution_count": 11,
   "id": "6f877cbb",
   "metadata": {},
   "outputs": [],
   "source": [
    "sensor_name = 'bathroom/ambience/light'\n",
    "bathroom_ambience_light = Smarthome(sensor_name)\n",
    "bathroom_ambience_light.creare_dataframe()"
   ]
  },
  {
   "cell_type": "code",
   "execution_count": 12,
   "id": "3686f801",
   "metadata": {},
   "outputs": [
    {
     "name": "stderr",
     "output_type": "stream",
     "text": [
      "                                                                                \r"
     ]
    },
    {
     "data": {
      "image/png": "[encoded data removed]",
      "text/plain": [
       "<Figure size 432x288 with 1 Axes>"
      ]
     },
     "metadata": {
      "needs_background": "light"
     },
     "output_type": "display_data"
    }
   ],
   "source": [
    "from pyspark_dist_explore import hist\n",
    "import matplotlib.pyplot as plt\n",
    "\n",
    "fig, ax = plt.subplots()\n",
    "hist(ax, bathroom_ambience_light.dataframe.select('value'), color=['blue'])\n",
    "plt.show()"
   ]
  },
  {
   "cell_type": "code",
   "execution_count": 13,
   "id": "ac0cf2da",
   "metadata": {},
   "outputs": [
    {
     "name": "stderr",
     "output_type": "stream",
     "text": [
      "                                                                                \r"
     ]
    },
    {
     "data": {
      "image/png": "[encoded data removed]",
      "text/plain": [
       "<Figure size 1440x864 with 2 Axes>"
      ]
     },
     "metadata": {
      "needs_background": "light"
     },
     "output_type": "display_data"
    }
   ],
   "source": [
    "process_sensor_data(bathroom_ambience_light, sensor_name)\n",
    "bathroom_ambience_light.display_heatmap()"
   ]
  },
  {
   "cell_type": "code",
   "execution_count": 14,
   "id": "56beaf7d",
   "metadata": {},
   "outputs": [
    {
     "name": "stderr",
     "output_type": "stream",
     "text": [
      "                                                                                \r"
     ]
    },
    {
     "data": {
      "image/png": "[encoded data removed]",
      "text/plain": [
       "<Figure size 1440x864 with 2 Axes>"
      ]
     },
     "metadata": {
      "needs_background": "light"
     },
     "output_type": "display_data"
    }
   ],
   "source": [
    "sensor_name = 'bathroom/ambience/motion'\n",
    "bathroom_ambience_motion = Smarthome(sensor_name)\n",
    "process_sensor_data(bathroom_ambience_motion, sensor_name)\n",
    "bathroom_ambience_motion.display_heatmap(annot=False)"
   ]
  },
  {
   "cell_type": "code",
   "execution_count": 15,
   "id": "11fae54e",
   "metadata": {},
   "outputs": [],
   "source": [
    "sensor_name = 'bathroom/ambience/temperature'\n",
    "bathroom_ambience_temperature = Smarthome(sensor_name)\n",
    "bathroom_ambience_temperature.creare_dataframe()"
   ]
  },
  {
   "cell_type": "code",
   "execution_count": 16,
   "id": "06d9858d",
   "metadata": {},
   "outputs": [
    {
     "name": "stderr",
     "output_type": "stream",
     "text": [
      "                                                                                \r"
     ]
    },
    {
     "data": {
      "text/plain": [
       "29.32"
      ]
     },
     "execution_count": 16,
     "metadata": {},
     "output_type": "execute_result"
    }
   ],
   "source": [
    "bathroom_ambience_temperature.dataframe.select('value').agg({'value': 'max'}).collect()[0][0]"
   ]
  },
  {
   "cell_type": "code",
   "execution_count": null,
   "id": "79901810",
   "metadata": {},
   "outputs": [
    {
     "name": "stderr",
     "output_type": "stream",
     "text": [
      "[Stage 28:>                                                         (0 + 5) / 5]\r"
     ]
    }
   ],
   "source": [
    "process_sensor_data(bathroom_ambience_temperature, sensor_name)\n",
    "bathroom_ambience_temperature.display_heatmap()"
   ]
  },
  {
   "cell_type": "code",
   "execution_count": null,
   "id": "937771a8",
   "metadata": {},
   "outputs": [],
   "source": [
    "from pyspark_dist_explore import hist\n",
    "import matplotlib.pyplot as plt\n",
    "\n",
    "fig, ax = plt.subplots()\n",
    "hist(ax, bathroom_ambience_temperature.dataframe.select('value'), color=['blue'])\n",
    "plt.show()"
   ]
  },
  {
   "cell_type": "code",
   "execution_count": null,
   "id": "87634dd6",
   "metadata": {},
   "outputs": [],
   "source": [
    "sensor_name = 'bathroom/washingmachine/current'\n",
    "bathroom_washingmachine_current = Smarthome(sensor_name)\n",
    "bathroom_washingmachine_current.creare_dataframe()"
   ]
  },
  {
   "cell_type": "code",
   "execution_count": null,
   "id": "abe1a038",
   "metadata": {},
   "outputs": [],
   "source": [
    "from pyspark_dist_explore import hist\n",
    "import matplotlib.pyplot as plt\n",
    "\n",
    "fig, ax = plt.subplots()\n",
    "hist(ax, bathroom_washingmachine_current.dataframe.select('value'), color=['blue'])\n",
    "plt.show()"
   ]
  },
  {
   "cell_type": "code",
   "execution_count": null,
   "id": "c1537065",
   "metadata": {},
   "outputs": [],
   "source": [
    "bathroom_washingmachine_current.dataframe.select('value').agg({'value': 'min'}).collect()[0][0]"
   ]
  },
  {
   "cell_type": "code",
   "execution_count": null,
   "id": "fedc71cf",
   "metadata": {},
   "outputs": [],
   "source": [
    "process_sensor_data(bathroom_washingmachine_current, sensor_name)\n",
    "bathroom_washingmachine_current.display_heatmap()"
   ]
  },
  {
   "cell_type": "code",
   "execution_count": null,
   "id": "a3920240",
   "metadata": {},
   "outputs": [],
   "source": [
    "sensor_name = 'bedroom/ambience/motion'\n",
    "bedroom_ambience_motion = Smarthome(sensor_name)\n",
    "process_sensor_data(bedroom_ambience_motion, sensor_name)\n",
    "bedroom_ambience_motion.display_heatmap(annot=False)"
   ]
  },
  {
   "cell_type": "code",
   "execution_count": null,
   "id": "198b2fab",
   "metadata": {},
   "outputs": [],
   "source": [
    "sensor_name = 'bedroom/ambience_under_the_bed/motion'\n",
    "under_the_bed_motion = Smarthome(sensor_name)\n",
    "under_the_bed_motion.creare_dataframe()"
   ]
  },
  {
   "cell_type": "code",
   "execution_count": null,
   "id": "04e1f792",
   "metadata": {},
   "outputs": [],
   "source": [
    "under_the_bed_motion.dataframe.select('value').agg({'value': 'max'}).collect()[0][0]"
   ]
  },
  {
   "cell_type": "code",
   "execution_count": null,
   "id": "1a68a101",
   "metadata": {},
   "outputs": [],
   "source": [
    "process_sensor_data(under_the_bed_motion, sensor_name)\n",
    "under_the_bed_motion.display_heatmap(annot=False)"
   ]
  },
  {
   "cell_type": "code",
   "execution_count": null,
   "id": "465facc0",
   "metadata": {},
   "outputs": [],
   "source": [
    "sensor_name = 'bedroom/bed/pressure'\n",
    "bedroom_bed_pressure = Smarthome(sensor_name)\n",
    "bedroom_bed_pressure.creare_dataframe()"
   ]
  },
  {
   "cell_type": "code",
   "execution_count": null,
   "id": "bf1fc048",
   "metadata": {},
   "outputs": [],
   "source": [
    "bedroom_bed_pressure.dataframe.select('value').agg({'value': 'min'}).collect()[0][0]"
   ]
  },
  {
   "cell_type": "code",
   "execution_count": null,
   "id": "b6a0c176",
   "metadata": {},
   "outputs": [],
   "source": [
    "from pyspark_dist_explore import hist\n",
    "import matplotlib.pyplot as plt\n",
    "\n",
    "fig, ax = plt.subplots()\n",
    "hist(ax, bedroom_bed_pressure.dataframe.select('value'), color=['blue'])\n",
    "plt.show()"
   ]
  },
  {
   "cell_type": "code",
   "execution_count": null,
   "id": "f32bb47c",
   "metadata": {},
   "outputs": [],
   "source": [
    "process_sensor_data(bedroom_bed_pressure, sensor_name)\n",
    "bedroom_bed_pressure.display_heatmap()"
   ]
  },
  {
   "cell_type": "code",
   "execution_count": null,
   "id": "172461cd",
   "metadata": {},
   "outputs": [],
   "source": [
    "sensor_name = 'bedroom/weightscale/pressure'\n",
    "bedroom_weightscale_pressure= Smarthome(sensor_name)\n",
    "bedroom_weightscale_pressure.creare_dataframe()"
   ]
  },
  {
   "cell_type": "code",
   "execution_count": null,
   "id": "1977b80b",
   "metadata": {},
   "outputs": [],
   "source": [
    "bedroom_weightscale_pressure.dataframe.select('value').agg({'value': 'max'}).collect()[0][0]"
   ]
  },
  {
   "cell_type": "code",
   "execution_count": null,
   "id": "3a3d5583",
   "metadata": {},
   "outputs": [],
   "source": [
    "process_sensor_data(bedroom_weightscale_pressure, sensor_name)\n",
    "bedroom_weightscale_pressure.display_heatmap()"
   ]
  },
  {
   "cell_type": "code",
   "execution_count": null,
   "id": "430b1871",
   "metadata": {},
   "outputs": [],
   "source": [
    "sensor_name = 'corridor/ambience/motion'\n",
    "corridor_ambience_motion= Smarthome(sensor_name)\n"
   ]
  },
  {
   "cell_type": "code",
   "execution_count": null,
   "id": "1745b6e0",
   "metadata": {},
   "outputs": [],
   "source": [
    "corridor_ambience_motion.creare_dataframe()\n"
   ]
  },
  {
   "cell_type": "code",
   "execution_count": null,
   "id": "b54a7df9",
   "metadata": {},
   "outputs": [],
   "source": [
    "corridor_ambience_motion.binarizer(active_threshold[sensor_name])\n"
   ]
  },
  {
   "cell_type": "code",
   "execution_count": null,
   "id": "919ae416",
   "metadata": {},
   "outputs": [],
   "source": [
    "corridor_ambience_motion.start_end_timestamp()\n"
   ]
  },
  {
   "cell_type": "code",
   "execution_count": null,
   "id": "666f71d2",
   "metadata": {},
   "outputs": [],
   "source": [
    "corridor_ambience_motion.extract_hour_minute()\n"
   ]
  },
  {
   "cell_type": "code",
   "execution_count": null,
   "id": "3b75c6c7",
   "metadata": {},
   "outputs": [],
   "source": [
    "corridor_ambience_motion.display_heatmap(annot=False)"
   ]
  },
  {
   "cell_type": "code",
   "execution_count": null,
   "id": "51b82ef7",
   "metadata": {},
   "outputs": [],
   "source": [
    "sensor_name = 'corridor/ilifeRobot/current'\n",
    "corridor_ilifeRobot_current= Smarthome(sensor_name)\n",
    "corridor_ilifeRobot_current.creare_dataframe()"
   ]
  },
  {
   "cell_type": "code",
   "execution_count": null,
   "id": "9d6e3801",
   "metadata": {},
   "outputs": [],
   "source": [
    "corridor_ilifeRobot_current.dataframe.select('value').agg({'value': 'min'}).collect()[0][0]"
   ]
  },
  {
   "cell_type": "code",
   "execution_count": null,
   "id": "31bddeb5",
   "metadata": {},
   "outputs": [],
   "source": [
    "from pyspark_dist_explore import hist\n",
    "import matplotlib.pyplot as plt\n",
    "\n",
    "fig, ax = plt.subplots()\n",
    "hist(ax, corridor_ilifeRobot_current.dataframe.select('value'), color=['blue'])\n",
    "plt.show()"
   ]
  },
  {
   "cell_type": "code",
   "execution_count": null,
   "id": "6689cc6d",
   "metadata": {},
   "outputs": [],
   "source": [
    "process_sensor_data(corridor_ilifeRobot_current, sensor_name)\n",
    "corridor_ilifeRobot_current.display_heatmap()"
   ]
  },
  {
   "cell_type": "code",
   "execution_count": null,
   "id": "c198d33d",
   "metadata": {},
   "outputs": [],
   "source": [
    "sensor_name = 'entrance/door/contact'\n",
    "entrance_door_contact= Smarthome(sensor_name)\n",
    "entrance_door_contact.creare_dataframe()"
   ]
  },
  {
   "cell_type": "code",
   "execution_count": null,
   "id": "612ab978",
   "metadata": {},
   "outputs": [],
   "source": [
    "entrance_door_contact.dataframe.select('value').agg({'value': 'max'}).collect()[0][0]"
   ]
  },
  {
   "cell_type": "code",
   "execution_count": null,
   "id": "f72e2eef",
   "metadata": {},
   "outputs": [],
   "source": [
    "process_sensor_data(entrance_door_contact, sensor_name)\n",
    "entrance_door_contact.display_heatmap()"
   ]
  },
  {
   "cell_type": "code",
   "execution_count": null,
   "id": "d9141a0f",
   "metadata": {},
   "outputs": [],
   "source": [
    "sensor_name = 'kitchen/ambience/motion'\n",
    "kitchen_ambience_motion= Smarthome(sensor_name)\n",
    "kitchen_ambience_motion.creare_dataframe()"
   ]
  },
  {
   "cell_type": "code",
   "execution_count": null,
   "id": "fa638f96",
   "metadata": {},
   "outputs": [],
   "source": [
    "kitchen_ambience_motion.dataframe.select('value').agg({'value': 'min'}).collect()[0][0]"
   ]
  },
  {
   "cell_type": "code",
   "execution_count": null,
   "id": "b3d53f43",
   "metadata": {},
   "outputs": [],
   "source": [
    "process_sensor_data(kitchen_ambience_motion, sensor_name)"
   ]
  },
  {
   "cell_type": "code",
   "execution_count": null,
   "id": "9e71395f",
   "metadata": {},
   "outputs": [],
   "source": [
    "kitchen_ambience_motion.display_heatmap(annot=False)"
   ]
  },
  {
   "cell_type": "code",
   "execution_count": null,
   "id": "70339496",
   "metadata": {},
   "outputs": [],
   "source": [
    "sensor_name = 'kitchen/coffeemaker/current'\n",
    "kitchen_coffeemaker_current= Smarthome(sensor_name)\n",
    "kitchen_coffeemaker_current.creare_dataframe()"
   ]
  },
  {
   "cell_type": "code",
   "execution_count": null,
   "id": "a764f56a",
   "metadata": {},
   "outputs": [],
   "source": [
    "kitchen_coffeemaker_current.dataframe.select('value').agg({'value': 'max'}).collect()[0][0]"
   ]
  },
  {
   "cell_type": "code",
   "execution_count": null,
   "id": "ccef2199",
   "metadata": {},
   "outputs": [],
   "source": [
    "process_sensor_data(kitchen_coffeemaker_current, sensor_name)\n",
    "kitchen_coffeemaker_current.display_heatmap()"
   ]
  },
  {
   "cell_type": "code",
   "execution_count": null,
   "id": "d41c511e",
   "metadata": {},
   "outputs": [],
   "source": [
    "sensor_name = 'kitchen/dishwasher/current'\n",
    "kitchen_dishwasher_current= Smarthome(sensor_name)\n",
    "kitchen_dishwasher_current.creare_dataframe()"
   ]
  },
  {
   "cell_type": "code",
   "execution_count": null,
   "id": "76f3f7d5",
   "metadata": {},
   "outputs": [],
   "source": [
    "kitchen_dishwasher_current.dataframe.select('value').agg({'value': 'min'}).collect()[0][0]"
   ]
  },
  {
   "cell_type": "code",
   "execution_count": null,
   "id": "9ff9346d",
   "metadata": {},
   "outputs": [],
   "source": [
    "from pyspark_dist_explore import hist\n",
    "import matplotlib.pyplot as plt\n",
    "\n",
    "fig, ax = plt.subplots()\n",
    "hist(ax, kitchen_dishwasher_current.dataframe.select('value'), color=['blue'])\n",
    "plt.show()"
   ]
  },
  {
   "cell_type": "code",
   "execution_count": null,
   "id": "52beee31",
   "metadata": {},
   "outputs": [],
   "source": [
    "process_sensor_data(kitchen_dishwasher_current, sensor_name)\n",
    "kitchen_dishwasher_current.display_heatmap()"
   ]
  },
  {
   "cell_type": "code",
   "execution_count": null,
   "id": "da55b603",
   "metadata": {},
   "outputs": [],
   "source": [
    "sensor_name = 'kitchen/fridge/contact'\n",
    "kitchen_fridge_contact= Smarthome(sensor_name)\n",
    "kitchen_fridge_contact.creare_dataframe()"
   ]
  },
  {
   "cell_type": "code",
   "execution_count": null,
   "id": "662dddb5",
   "metadata": {},
   "outputs": [],
   "source": [
    "kitchen_fridge_contact.dataframe.select('value').agg({'value': 'min'}).collect()[0][0]"
   ]
  },
  {
   "cell_type": "code",
   "execution_count": null,
   "id": "1b5a5bcb",
   "metadata": {},
   "outputs": [],
   "source": [
    "process_sensor_data(kitchen_fridge_contact, sensor_name)\n",
    "kitchen_fridge_contact.display_heatmap()"
   ]
  },
  {
   "cell_type": "code",
   "execution_count": null,
   "id": "06e2f6ac",
   "metadata": {},
   "outputs": [],
   "source": [
    "sensor_name = 'kitchen/kettle/current'\n",
    "kitchen_kettle_current= Smarthome(sensor_name)\n",
    "kitchen_kettle_current.creare_dataframe()"
   ]
  },
  {
   "cell_type": "code",
   "execution_count": null,
   "id": "005bf32c",
   "metadata": {},
   "outputs": [],
   "source": [
    "kitchen_kettle_current.dataframe.select('value').agg({'value': 'max'}).collect()[0][0]"
   ]
  },
  {
   "cell_type": "code",
   "execution_count": null,
   "id": "f1998781",
   "metadata": {},
   "outputs": [],
   "source": [
    "process_sensor_data(kitchen_kettle_current, sensor_name)\n",
    "kitchen_kettle_current.display_heatmap()"
   ]
  },
  {
   "cell_type": "code",
   "execution_count": null,
   "id": "0cfc4632",
   "metadata": {},
   "outputs": [],
   "source": [
    "sensor_name = 'kitchen/microwave/current'\n",
    "kitchen_microwave_current= Smarthome(sensor_name)\n",
    "kitchen_microwave_current.creare_dataframe()"
   ]
  },
  {
   "cell_type": "code",
   "execution_count": null,
   "id": "13ef6d3d",
   "metadata": {},
   "outputs": [],
   "source": [
    "kitchen_microwave_current.dataframe.select('value').agg({'value': 'min'}).collect()[0][0]"
   ]
  },
  {
   "cell_type": "code",
   "execution_count": null,
   "id": "c247a4b6",
   "metadata": {},
   "outputs": [],
   "source": [
    "from pyspark_dist_explore import hist\n",
    "import matplotlib.pyplot as plt\n",
    "\n",
    "fig, ax = plt.subplots()\n",
    "hist(ax, kitchen_microwave_current.dataframe.select('value'), color=['blue'])\n",
    "plt.show()"
   ]
  },
  {
   "cell_type": "code",
   "execution_count": null,
   "id": "137b2dc9",
   "metadata": {},
   "outputs": [],
   "source": [
    "process_sensor_data(kitchen_microwave_current, sensor_name)\n",
    "kitchen_microwave_current.display_heatmap()"
   ]
  },
  {
   "cell_type": "code",
   "execution_count": null,
   "id": "75d9fd6a",
   "metadata": {},
   "outputs": [],
   "source": [
    "sensor_name = 'kitchen/sandwichmaker/current'\n",
    "kitchen_sandwichmaker_current= Smarthome(sensor_name)\n",
    "kitchen_sandwichmaker_current.creare_dataframe()"
   ]
  },
  {
   "cell_type": "code",
   "execution_count": null,
   "id": "0e0ff69f",
   "metadata": {},
   "outputs": [],
   "source": [
    "kitchen_sandwichmaker_current.dataframe.select('value').agg({'value': 'max'}).collect()[0][0]"
   ]
  },
  {
   "cell_type": "code",
   "execution_count": null,
   "id": "730557e7",
   "metadata": {},
   "outputs": [],
   "source": [
    "process_sensor_data(kitchen_sandwichmaker_current, sensor_name)\n",
    "kitchen_sandwichmaker_current.display_heatmap()"
   ]
  },
  {
   "cell_type": "code",
   "execution_count": null,
   "id": "22e24b8b",
   "metadata": {},
   "outputs": [],
   "source": [
    "sensor_name = 'kitchen/stove/light'\n",
    "kitchen_stove_light= Smarthome(sensor_name)\n",
    "kitchen_stove_light.creare_dataframe()"
   ]
  },
  {
   "cell_type": "code",
   "execution_count": null,
   "id": "04148c76",
   "metadata": {},
   "outputs": [],
   "source": [
    "kitchen_stove_light.dataframe.select('value').agg({'value': 'min'}).collect()[0][0]"
   ]
  },
  {
   "cell_type": "code",
   "execution_count": null,
   "id": "469b87d5",
   "metadata": {},
   "outputs": [],
   "source": [
    "process_sensor_data(kitchen_stove_light, sensor_name)\n",
    "kitchen_stove_light.display_heatmap(annot=False)"
   ]
  },
  {
   "cell_type": "code",
   "execution_count": null,
   "id": "d08d4c50",
   "metadata": {},
   "outputs": [],
   "source": [
    "sensor_name = 'livingroom/ambience/motion'\n",
    "livingroom_ambience_motion= Smarthome(sensor_name)\n",
    "livingroom_ambience_motion.creare_dataframe()"
   ]
  },
  {
   "cell_type": "code",
   "execution_count": null,
   "id": "a154f701",
   "metadata": {},
   "outputs": [],
   "source": [
    "livingroom_ambience_motion.dataframe.select('value').agg({'value': 'max'}).collect()[0][0]"
   ]
  },
  {
   "cell_type": "code",
   "execution_count": null,
   "id": "36d73f3d",
   "metadata": {},
   "outputs": [],
   "source": [
    "process_sensor_data(livingroom_ambience_motion, sensor_name)\n",
    "kitchen_stove_light.display_heatmap(annot=False)"
   ]
  },
  {
   "cell_type": "code",
   "execution_count": null,
   "id": "0a684a4b",
   "metadata": {},
   "outputs": [],
   "source": [
    "sensor_name = 'livingroom/couch/pressure'\n",
    "livingroom_couch_pressure= Smarthome(sensor_name)\n",
    "livingroom_couch_pressure.creare_dataframe()"
   ]
  },
  {
   "cell_type": "code",
   "execution_count": null,
   "id": "40456dc9",
   "metadata": {},
   "outputs": [],
   "source": [
    "livingroom_couch_pressure.dataframe.select('value').agg({'value': 'min'}).collect()[0][0]"
   ]
  },
  {
   "cell_type": "code",
   "execution_count": null,
   "id": "5f655921",
   "metadata": {},
   "outputs": [],
   "source": [
    "from pyspark_dist_explore import hist\n",
    "import matplotlib.pyplot as plt\n",
    "\n",
    "fig, ax = plt.subplots()\n",
    "hist(ax, livingroom_couch_pressure.dataframe.select('value'), color=['blue'])\n",
    "plt.show()"
   ]
  },
  {
   "cell_type": "code",
   "execution_count": null,
   "id": "358807e1",
   "metadata": {},
   "outputs": [],
   "source": [
    "process_sensor_data(livingroom_couch_pressure, sensor_name)"
   ]
  },
  {
   "cell_type": "code",
   "execution_count": null,
   "id": "61b8cc6c",
   "metadata": {},
   "outputs": [],
   "source": [
    "livingroom_couch_pressure.display_heatmap()"
   ]
  },
  {
   "cell_type": "code",
   "execution_count": null,
   "id": "4751b9bb",
   "metadata": {},
   "outputs": [],
   "source": [
    "sensor_name = 'livingroom/tv/light'\n",
    "livingroom_tv_light= Smarthome(sensor_name)\n",
    "livingroom_tv_light.creare_dataframe()"
   ]
  },
  {
   "cell_type": "code",
   "execution_count": null,
   "id": "7f127d78",
   "metadata": {},
   "outputs": [],
   "source": [
    "livingroom_tv_light.dataframe.select('value').agg({'value': 'max'}).collect()[0][0]"
   ]
  },
  {
   "cell_type": "code",
   "execution_count": null,
   "id": "e89e6f30",
   "metadata": {},
   "outputs": [],
   "source": [
    "process_sensor_data(livingroom_tv_light, sensor_name)"
   ]
  },
  {
   "cell_type": "code",
   "execution_count": null,
   "id": "c1ff6d21",
   "metadata": {},
   "outputs": [],
   "source": [
    "livingroom_tv_light.display_heatmap()"
   ]
  },
  {
   "cell_type": "code",
   "execution_count": null,
   "id": "1e3929eb",
   "metadata": {},
   "outputs": [],
   "source": [
    "df1 = pd.DataFrame(balcon_door_contact.start)\n",
    "df1['sensor_name'] = 'balcon/door/contact'\n",
    "df1.columns = ['timestamp', 'sensor_name']\n",
    "df1['timestamp'] = pd.to_datetime(df1['timestamp'])\n",
    "\n",
    "df2 = pd.DataFrame(bathroom_ambience_humidity.start)\n",
    "df2['sensor_name'] = 'bathroom/ambience/humidity'\n",
    "df2.columns = ['timestamp', 'sensor_name']\n",
    "df2['timestamp'] = pd.to_datetime(df2['timestamp'])\n",
    "\n",
    "df3 = pd.DataFrame(bathroom_ambience_light.start)\n",
    "df3['sensor_name'] = 'bathroom/ambience/light'\n",
    "df3.columns = ['timestamp', 'sensor_name']\n",
    "df3['timestamp'] = pd.to_datetime(df3['timestamp'])\n",
    "\n",
    "df4 = pd.DataFrame(bathroom_ambience_motion.start)\n",
    "df4['sensor_name'] = 'bathroom/ambience/motion'\n",
    "df4.columns = ['timestamp', 'sensor_name']\n",
    "df4['timestamp'] = pd.to_datetime(df4['timestamp'])\n",
    "\n",
    "df5 = pd.DataFrame(bathroom_ambience_temperature.start)\n",
    "df5['sensor_name'] = 'bathroom/ambience/temperature'\n",
    "df5.columns = ['timestamp', 'sensor_name']\n",
    "df5['timestamp'] = pd.to_datetime(df5['timestamp'])\n",
    "\n",
    "df6 = pd.DataFrame(bathroom_washingmachine_current.start)\n",
    "df6['sensor_name'] = 'bathroom/washingmachine/current'\n",
    "df6.columns = ['timestamp', 'sensor_name']\n",
    "df6['timestamp'] = pd.to_datetime(df6['timestamp'])\n",
    "\n",
    "df7 = pd.DataFrame(bedroom_ambience_motion.start)\n",
    "df7['sensor_name'] = 'bedroom/ambience/motion'\n",
    "df7.columns = ['timestamp', 'sensor_name']\n",
    "df7['timestamp'] = pd.to_datetime(df7['timestamp'])\n",
    "\n",
    "df8 = pd.DataFrame(under_the_bed_motion.start)\n",
    "df8['sensor_name'] = 'bedroom/ambience_under_the_bed/motion'\n",
    "df8.columns = ['timestamp', 'sensor_name']\n",
    "df8['timestamp'] = pd.to_datetime(df8['timestamp'])\n",
    "\n",
    "df9 = pd.DataFrame(bedroom_bed_pressure.start)\n",
    "df9['sensor_name'] = 'bedroom/bed/pressure'\n",
    "df9.columns = ['timestamp', 'sensor_name']\n",
    "df9['timestamp'] = pd.to_datetime(df9['timestamp'])\n",
    "\n",
    "df10 = pd.DataFrame(bedroom_weightscale_pressure.start)\n",
    "df10['sensor_name'] = 'bedroom/weightscale/pressure'\n",
    "df10.columns = ['timestamp', 'sensor_name']\n",
    "df10['timestamp'] = pd.to_datetime(df10['timestamp'])\n",
    "\n",
    "df11 = pd.DataFrame(corridor_ambience_motion.start)\n",
    "df11['sensor_name'] = 'corridor/ambience/motion'\n",
    "df11.columns = ['timestamp', 'sensor_name']\n",
    "df11['timestamp'] = pd.to_datetime(df11['timestamp'])\n",
    "\n",
    "df12 = pd.DataFrame(corridor_ilifeRobot_current.start)\n",
    "df12['sensor_name'] = 'corridor/ilifeRobot/current'\n",
    "df12.columns = ['timestamp', 'sensor_name']\n",
    "df12['timestamp'] = pd.to_datetime(df12['timestamp'])\n",
    "\n",
    "df13 = pd.DataFrame(entrance_door_contact.start)\n",
    "df13['sensor_name'] = 'entrance/door/contact'\n",
    "df13.columns = ['timestamp', 'sensor_name']\n",
    "df13['timestamp'] = pd.to_datetime(df13['timestamp'])\n",
    "\n",
    "df14 = pd.DataFrame(kitchen_ambience_motion.start)\n",
    "df14['sensor_name'] = 'kitchen/ambience/motion'\n",
    "df14.columns = ['timestamp', 'sensor_name']\n",
    "df14['timestamp'] = pd.to_datetime(df14['timestamp'])\n",
    "\n",
    "df15 = pd.DataFrame(kitchen_coffeemaker_current.start)\n",
    "df15['sensor_name'] = 'kitchen/coffeemaker/current'\n",
    "df15.columns = ['timestamp', 'sensor_name']\n",
    "df15['timestamp'] = pd.to_datetime(df15['timestamp'])\n",
    "\n",
    "df16 = pd.DataFrame(kitchen_dishwasher_current.start)\n",
    "df16['sensor_name'] = 'kitchen/dishwasher/current'\n",
    "df16.columns = ['timestamp', 'sensor_name']\n",
    "df16['timestamp'] = pd.to_datetime(df16['timestamp'])\n",
    "\n",
    "df17 = pd.DataFrame(kitchen_fridge_contact.start)\n",
    "df17['sensor_name'] = 'kitchen/fridge/contact'\n",
    "df17.columns = ['timestamp', 'sensor_name']\n",
    "df17['timestamp'] = pd.to_datetime(df17['timestamp'])\n",
    "\n",
    "df18 = pd.DataFrame(kitchen_kettle_current.start)\n",
    "df18['sensor_name'] = 'kitchen/kettle/current'\n",
    "df18.columns = ['timestamp', 'sensor_name']\n",
    "df18['timestamp'] = pd.to_datetime(df18['timestamp'])\n",
    "\n",
    "df19 = pd.DataFrame(kitchen_microwave_current.start)\n",
    "df19['sensor_name'] = 'kitchen/microwave/current'\n",
    "df19.columns = ['timestamp', 'sensor_name']\n",
    "df19['timestamp'] = pd.to_datetime(df19['timestamp'])\n",
    "\n",
    "df20 = pd.DataFrame(kitchen_sandwichmaker_current.start)\n",
    "df20['sensor_name'] = 'kitchen/sandwichmaker/current'\n",
    "df20.columns = ['timestamp', 'sensor_name']\n",
    "df20['timestamp'] = pd.to_datetime(df1['timestamp'])\n",
    "\n",
    "df21 = pd.DataFrame(kitchen_stove_light.start)\n",
    "df21['sensor_name'] = 'kitchen/stove/light'\n",
    "df21.columns = ['timestamp', 'sensor_name']\n",
    "df21['timestamp'] = pd.to_datetime(df21['timestamp'])\n",
    "\n",
    "df22 = pd.DataFrame(livingroom_ambience_motion.start)\n",
    "df22['sensor_name'] = 'livingroom/ambience/motion'\n",
    "df22.columns = ['timestamp', 'sensor_name']\n",
    "df22['timestamp'] = pd.to_datetime(df22['timestamp'])\n",
    "\n",
    "df23 = pd.DataFrame(livingroom_couch_pressure.start)\n",
    "df23['sensor_name'] = 'livingroom/couch/pressure'\n",
    "df23.columns = ['timestamp', 'sensor_name']\n",
    "df23['timestamp'] = pd.to_datetime(df23['timestamp'])\n",
    "\n",
    "df24 = pd.DataFrame(livingroom_tv_light.start)\n",
    "df24['sensor_name'] = 'livingroom/tv/light'\n",
    "df24.columns = ['timestamp', 'sensor_name']\n",
    "df24['timestamp'] = pd.to_datetime(df24['timestamp'])\n",
    "\n",
    "frames = [df1, df2, df3, df4, df5, df6, df7, df8, df9, df10, df11, df12, df13, df14, df15, df16, df17, df18, df19, df20, df21, df22, df23, df24]\n",
    "df = pd.concat(frames)\n",
    "df = df.sort_values(by='timestamp')\n",
    "df"
   ]
  },
  {
   "cell_type": "code",
   "execution_count": null,
   "id": "6bedb87a",
   "metadata": {},
   "outputs": [],
   "source": [
    "import itertools\n",
    "df = df.groupby(df['timestamp'].dt.date)['sensor_name'].apply(lambda x: ','.join(x))\n",
    "df = df.reset_index()\n",
    "df['sequence'] = df['sensor_name'].apply(lambda x: x.split(\",\"))\n",
    "df['sequence'] = df['sequence'].apply(lambda myList: [ [x,y] for x,y in zip(myList, myList[1:])])\n",
    "df['sequence'] = df['sequence'].apply(lambda myList: list(myList for myList,_ in itertools.groupby(myList)))\n",
    "df['sequence'] = df['sequence'].apply(lambda myList: [x for x in myList if x[0] != x[1]])"
   ]
  },
  {
   "cell_type": "code",
   "execution_count": null,
   "id": "ad8b1bc3",
   "metadata": {},
   "outputs": [],
   "source": [
    "df.head()"
   ]
  },
  {
   "cell_type": "code",
   "execution_count": null,
   "id": "715b43c2",
   "metadata": {},
   "outputs": [],
   "source": [
    "spark_df = spark.createDataFrame(df)"
   ]
  },
  {
   "cell_type": "code",
   "execution_count": null,
   "id": "70978e02",
   "metadata": {},
   "outputs": [],
   "source": [
    "df_array = spark_df.select('sequence')"
   ]
  },
  {
   "cell_type": "code",
   "execution_count": null,
   "id": "2d5a5e66",
   "metadata": {},
   "outputs": [],
   "source": [
    "from pyspark.ml.fpm import PrefixSpan\n",
    "\n",
    "prefixSpan = PrefixSpan(minSupport=0.94, maxPatternLength=3)\n",
    "\n",
    "# Find frequent sequential patterns.\n",
    "sequence = prefixSpan.findFrequentSequentialPatterns(df_array)\n"
   ]
  },
  {
   "cell_type": "code",
   "execution_count": null,
   "id": "ef52ef57",
   "metadata": {},
   "outputs": [],
   "source": [
    "sequence.where(func.size(func.col(\"sequence\")) > 1).take(200)"
   ]
  },
  {
   "cell_type": "code",
   "execution_count": null,
   "id": "edb5bc1a",
   "metadata": {
    "scrolled": true
   },
   "outputs": [],
   "source": [
    "from pyspark.sql.functions import expr, round\n",
    "\n",
    "#get the size of each array within the arrays\n",
    "filtered = sequence.withColumn('size', expr('transform(sequence, x -> size(x))'))\n",
    "# sequence.withColumn(\"length\",size(col(\"sequence\")))\n",
    "\n",
    "# Let's also add a column that tells us the percentage of the sequences\n",
    "row_cnt = df_array.count()\n",
    "filtered = filtered.withColumn('percentage',round((func.col(\"freq\")/row_cnt)*100,2))\n",
    "# Then filter out only the ones with more than 2 elements\n",
    "filtered = filtered.where(func.array_contains(filtered.size, 2))\n",
    "filtered.show()"
   ]
  },
  {
   "cell_type": "code",
   "execution_count": null,
   "id": "04d5d1fc",
   "metadata": {},
   "outputs": [],
   "source": [
    "filtered.take(200)"
   ]
  },
  {
   "cell_type": "code",
   "execution_count": null,
   "id": "381ba0fa",
   "metadata": {},
   "outputs": [],
   "source": [
    "entrance_door_contact.start[0], len(entrance_door_contact.end)"
   ]
  }
 ],
 "metadata": {
  "kernelspec": {
   "display_name": "Python 3 (ipykernel)",
   "language": "python",
   "name": "python3"
  },
  "language_info": {
   "codemirror_mode": {
    "name": "ipython",
    "version": 3
   },
   "file_extension": ".py",
   "mimetype": "text/x-python",
   "name": "python",
   "nbconvert_exporter": "python",
   "pygments_lexer": "ipython3",
   "version": "3.8.11"
  }
 },
 "nbformat": 4,
 "nbformat_minor": 5
}
