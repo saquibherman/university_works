{
 "cells": [
  {
   "cell_type": "markdown",
   "metadata": {},
   "source": [
    "# Music Recommendation System run on GCP with 2 nodes"
   ]
  },
  {
   "cell_type": "code",
   "execution_count": 1,
   "metadata": {},
   "outputs": [
    {
     "name": "stdout",
     "output_type": "stream",
     "text": [
      "Defaulting to user installation because normal site-packages is not writeable\n",
      "Requirement already satisfied: pyspark in /usr/lib/spark/python (3.1.2)\n",
      "Requirement already satisfied: py4j==0.10.9 in /opt/conda/miniconda3/lib/python3.8/site-packages (from pyspark) (0.10.9)\n"
     ]
    }
   ],
   "source": [
    "# Install pySpark\n",
    "!pip install pyspark"
   ]
  },
  {
   "cell_type": "code",
   "execution_count": 2,
   "metadata": {
    "id": "nm5mbVGiaLQN"
   },
   "outputs": [
    {
     "name": "stderr",
     "output_type": "stream",
     "text": [
      "Setting default log level to \"WARN\".\n",
      "To adjust logging level use sc.setLogLevel(newLevel). For SparkR, use setLogLevel(newLevel).\n"
     ]
    }
   ],
   "source": [
    "from pyspark import SparkContext, SparkConf\n",
    "conf = SparkConf().setAppName('pyspark-shell')\n",
    "sc = SparkContext(conf=conf)"
   ]
  },
  {
   "cell_type": "code",
   "execution_count": 3,
   "metadata": {
    "colab": {
     "base_uri": "https://localhost:8080/"
    },
    "id": "1fgk6yfpaLQO",
    "outputId": "cfcd141e-ec6b-4f31-95d5-dbaa59f4ffeb"
   },
   "outputs": [
    {
     "name": "stdout",
     "output_type": "stream",
     "text": [
      "<SparkContext master=yarn appName=pyspark-shell>\n",
      "3.1.2\n"
     ]
    }
   ],
   "source": [
    "# Verify SparkContext\n",
    "print(sc)\n",
    "\n",
    "# Print Spark version\n",
    "print(sc.version)"
   ]
  },
  {
   "cell_type": "code",
   "execution_count": 4,
   "metadata": {
    "colab": {
     "base_uri": "https://localhost:8080/"
    },
    "id": "596SZ4EuaLQO",
    "outputId": "6a9abc40-2193-4fa1-c2a7-9cf9edaa2677"
   },
   "outputs": [
    {
     "name": "stdout",
     "output_type": "stream",
     "text": [
      "<pyspark.sql.session.SparkSession object at 0x7fca10660940>\n"
     ]
    }
   ],
   "source": [
    "# Import SparkSession from pyspark.sql\n",
    "from pyspark.sql import SparkSession\n",
    "\n",
    "# Create spark\n",
    "spark = SparkSession.builder.getOrCreate()\n",
    "\n",
    "spark.conf.set(\"spark.sql.adaptive.enabled\",True)\n",
    "spark.conf.set(\"spark.sql.adaptive.skewJoin.enabled\",True)\n",
    "# spark.conf.set(\"spark.sql.autoBroadcastJoinThreshold\",104857600)\n",
    "# spark.conf.set(\"spark.sql.join.preferSortMergeJoin\", True)\n",
    "# spark.conf.set(\"spark.sql.shuffle.partitions\", 500)\n",
    "# spark.conf.set(\"spark.sql.files.minPartitionNum\", 400)\n",
    "# spark.conf.set('spark.sql.adaptive.advisoryPartitionSizeInBytes',134217728)\n",
    "# spark.conf.set('spark.sql.adaptive.coalescePartitions.initialPartitionNum',1000)\n",
    "# spark.conf.set('spark.sql.files.maxPartitionBytes',67108864)\n",
    "\n",
    "# Print spark\n",
    "print(spark)"
   ]
  },
  {
   "cell_type": "code",
   "execution_count": 5,
   "metadata": {},
   "outputs": [
    {
     "name": "stdout",
     "output_type": "stream",
     "text": [
      "43m\n",
      "200\n",
      "None\n",
      "67108864b\n",
      "true\n",
      "134217728b\n"
     ]
    }
   ],
   "source": [
    "print(spark.conf.get('spark.sql.autoBroadcastJoinThreshold'))\n",
    "print(spark.conf.get('spark.sql.shuffle.partitions'))\n",
    "print(spark.conf.get('spark.sql.files.minPartitionNum'))\n",
    "print(spark.conf.get('spark.sql.adaptive.advisoryPartitionSizeInBytes'))\n",
    "print(spark.conf.get('spark.sql.adaptive.localShuffleReader.enabled'))\n",
    "print(spark.conf.get('spark.sql.files.maxPartitionBytes'))\n"
   ]
  },
  {
   "cell_type": "code",
   "execution_count": 6,
   "metadata": {
    "id": "Yb8gEREXaLQP"
   },
   "outputs": [],
   "source": [
    "# import required libraries\n",
    "from pyspark.sql import SparkSession\n",
    "from pyspark.sql.functions import count, desc , col, max, monotonically_increasing_id\n",
    "from pyspark.ml.feature import  StringIndexer\n",
    "from pyspark.ml import Pipeline\n",
    "from pyspark.ml.recommendation import ALS\n",
    "from pyspark.ml.tuning import TrainValidationSplit, ParamGridBuilder"
   ]
  },
  {
   "cell_type": "code",
   "execution_count": 7,
   "metadata": {
    "colab": {
     "base_uri": "https://localhost:8080/"
    },
    "id": "3yIDBGJdwtZ-",
    "outputId": "2e218e95-ab11-4d8f-95ec-517f3de4fea4"
   },
   "outputs": [
    {
     "name": "stderr",
     "output_type": "stream",
     "text": [
      "                                                                                \r"
     ]
    }
   ],
   "source": [
    "# Read triplets\n",
    "file_path = 'gs://saqher20_bdpp_bucket1/triplet.csv'\n",
    "triplets = spark.read.format('csv').option('delimiter',\";\").option('header',True).option('inferSchema',True).load(file_path)"
   ]
  },
  {
   "cell_type": "code",
   "execution_count": 8,
   "metadata": {},
   "outputs": [],
   "source": [
    "# Get active users\n",
    "active_users = triplets.groupBy('user').count().select('user', col('count').alias('n'))\n",
    "active_users = active_users.select('user').filter(active_users.n > 10)\n",
    "\n",
    "# Get popular songs\n",
    "popular_songs = triplets.groupBy('song').count().select('song', col('count').alias('n'))\n",
    "popular_songs = popular_songs.select('song').filter(popular_songs.n > 50)"
   ]
  },
  {
   "cell_type": "code",
   "execution_count": 9,
   "metadata": {},
   "outputs": [],
   "source": [
    "users_songs = active_users.crossJoin(popular_songs)"
   ]
  },
  {
   "cell_type": "code",
   "execution_count": 10,
   "metadata": {},
   "outputs": [],
   "source": [
    "from pyspark.sql.functions import broadcast\n",
    "\n",
    "df = users_songs.join(triplets, [\"user\", \"song\"], \"left\").fillna(0)"
   ]
  },
  {
   "cell_type": "code",
   "execution_count": 11,
   "metadata": {},
   "outputs": [
    {
     "name": "stderr",
     "output_type": "stream",
     "text": [
      "[Stage 12:=====================================================> (98 + 2) / 100]\r"
     ]
    },
    {
     "name": "stdout",
     "output_type": "stream",
     "text": [
      "+-----------+-------+\n",
      "|partitionId|  count|\n",
      "+-----------+-------+\n",
      "|         27|1228466|\n",
      "|         44|1227915|\n",
      "|         53|1229861|\n",
      "|         76|1230486|\n",
      "|         85|1229361|\n",
      "|         26|1229042|\n",
      "|         28|1228507|\n",
      "|         34|1229083|\n",
      "|         65|1231310|\n",
      "|         81|1228782|\n",
      "|         31|1227675|\n",
      "|         78|1231523|\n",
      "|          1|1228879|\n",
      "|         47|1230478|\n",
      "|         86|1228879|\n",
      "|          3|1228898|\n",
      "|         12|1227952|\n",
      "|         22|1227811|\n",
      "|         16|1230008|\n",
      "|         52|1228810|\n",
      "+-----------+-------+\n",
      "only showing top 20 rows\n",
      "\n"
     ]
    },
    {
     "name": "stderr",
     "output_type": "stream",
     "text": [
      "                                                                                \r"
     ]
    }
   ],
   "source": [
    "from pyspark.sql.functions import spark_partition_id\n",
    "\n",
    "df_with_partition_id = df.withColumn(\"partitionId\", spark_partition_id()).groupBy(\"partitionId\").count()\n",
    "df_with_partition_id.show()\n",
    "\n"
   ]
  },
  {
   "cell_type": "code",
   "execution_count": 23,
   "metadata": {},
   "outputs": [
    {
     "data": {
      "text/plain": [
       "<AxesSubplot:xlabel='partitionId'>"
      ]
     },
     "execution_count": 23,
     "metadata": {},
     "output_type": "execute_result"
    },
    {
     "data": {
      "image/png": "[encoded data removed]",
      "text/plain": [
       "<Figure size 1440x720 with 1 Axes>"
      ]
     },
     "metadata": {
      "needs_background": "light"
     },
     "output_type": "display_data"
    }
   ],
   "source": [
    "pdf =df_with_partition_id.toPandas()\n",
    "pdf.plot(x='partitionId', y=['count'], kind='bar', figsize=(20,10))"
   ]
  },
  {
   "cell_type": "code",
   "execution_count": 13,
   "metadata": {},
   "outputs": [
    {
     "name": "stderr",
     "output_type": "stream",
     "text": [
      "[Stage 65:======================================================>(99 + 1) / 100]\r"
     ]
    },
    {
     "name": "stdout",
     "output_type": "stream",
     "text": [
      "Time take is 206.863343000412 seconds\n"
     ]
    },
    {
     "name": "stderr",
     "output_type": "stream",
     "text": [
      "                                                                                \r"
     ]
    }
   ],
   "source": [
    "# Convert string to indexes\n",
    "import time\n",
    "from pyspark.ml import Pipeline\n",
    "from pyspark.ml.feature import StringIndexer\n",
    "\n",
    "start = time.time()\n",
    "indexers = [StringIndexer(inputCol=column, outputCol=column+\"Id\").fit(df) for column in list(set(df.columns)-set(['num_plays'])) ]\n",
    "pipeline = Pipeline(stages=indexers)\n",
    "df = pipeline.fit(df).transform(df)\n",
    "\n",
    "end = time.time()\n",
    "print(\"Time take is {} seconds\".format(end-start))"
   ]
  },
  {
   "cell_type": "code",
   "execution_count": 14,
   "metadata": {
    "id": "-MmC4LNVaLQQ"
   },
   "outputs": [],
   "source": [
    "# Select desired columns for ALS\n",
    "df = df.select(['userId','songId', 'num_plays'])"
   ]
  },
  {
   "cell_type": "code",
   "execution_count": 15,
   "metadata": {
    "id": "bkSCwp11ydr2"
   },
   "outputs": [],
   "source": [
    "# Change the data type of columns for ALS (double --> integer)\n",
    "from pyspark.sql.types import IntegerType\n",
    "\n",
    "df = df.withColumn(\"userId\",df[\"userId\"].cast(IntegerType()))\n",
    "df = df.withColumn(\"songId\",df[\"songId\"].cast(IntegerType()))"
   ]
  },
  {
   "cell_type": "code",
   "execution_count": 16,
   "metadata": {
    "id": "H1952JCwZ_vm"
   },
   "outputs": [],
   "source": [
    "# Order by userId\n",
    "df = df.orderBy('userId')"
   ]
  },
  {
   "cell_type": "code",
   "execution_count": 17,
   "metadata": {
    "id": "C28DgVEMaXy9"
   },
   "outputs": [],
   "source": [
    "# Random split into training and test sets\n",
    "(training, test) = df.randomSplit([0.5,0.5])"
   ]
  },
  {
   "cell_type": "code",
   "execution_count": 18,
   "metadata": {
    "id": "726Vq7aD18gs"
   },
   "outputs": [],
   "source": [
    "# Decorator for time analysis\n",
    "def time_decorator(my_func):\n",
    "    def modified_func(*args, **kwargs):\n",
    "        start = time.time()\n",
    "        my_func(*args, **kwargs)\n",
    "        end = time.time()\n",
    "        print(\"Time taken is {} seconds\".format(end - start))\n",
    "    return modified_func"
   ]
  },
  {
   "cell_type": "code",
   "execution_count": 19,
   "metadata": {
    "colab": {
     "base_uri": "https://localhost:8080/"
    },
    "id": "35W1cXB6adRv",
    "outputId": "514d78e5-bd1f-4967-e1a4-879e10cd7de5"
   },
   "outputs": [
    {
     "name": "stderr",
     "output_type": "stream",
     "text": [
      "21/08/25 11:02:25 WARN org.apache.spark.scheduler.DAGScheduler: Broadcasting large task binary with size 2.6 MiB\n",
      "21/08/25 11:02:29 WARN org.apache.spark.scheduler.DAGScheduler: Broadcasting large task binary with size 2.6 MiB\n",
      "21/08/25 11:03:41 WARN org.apache.spark.scheduler.DAGScheduler: Broadcasting large task binary with size 2.6 MiB\n",
      "21/08/25 11:03:47 WARN org.apache.spark.scheduler.DAGScheduler: Broadcasting large task binary with size 2.6 MiB\n",
      "21/08/25 11:03:56 WARN org.apache.spark.scheduler.DAGScheduler: Broadcasting large task binary with size 2.6 MiB\n",
      "21/08/25 11:04:00 WARN org.apache.spark.scheduler.DAGScheduler: Broadcasting large task binary with size 2.6 MiB\n",
      "21/08/25 11:04:14 WARN org.apache.spark.scheduler.DAGScheduler: Broadcasting large task binary with size 2.6 MiB\n",
      "21/08/25 11:04:14 WARN org.apache.spark.scheduler.DAGScheduler: Broadcasting large task binary with size 2.6 MiB\n",
      "21/08/25 11:04:18 WARN org.apache.spark.scheduler.DAGScheduler: Broadcasting large task binary with size 2.6 MiB\n",
      "21/08/25 11:04:21 WARN org.apache.spark.scheduler.DAGScheduler: Broadcasting large task binary with size 2.6 MiB\n",
      "                                                                                \r"
     ]
    },
    {
     "name": "stdout",
     "output_type": "stream",
     "text": [
      "Time take is 198.93055486679077 seconds\n"
     ]
    }
   ],
   "source": [
    "# Creating the ALS mode\n",
    "USERID = 'userId'\n",
    "TRACK = 'songId'\n",
    "COUNT = 'num_plays'\n",
    "\n",
    "start = time.time()\n",
    "als = ALS(maxIter=1, regParam=0.01, userCol=USERID, itemCol = TRACK, ratingCol = COUNT)\n",
    "model = als.fit(training)\n",
    "predictions = model.transform(test)\n",
    "end = time.time()\n",
    "\n",
    "print(\"Time take is {} seconds\".format(end-start))"
   ]
  },
  {
   "cell_type": "code",
   "execution_count": 20,
   "metadata": {
    "id": "FzVT8M_Ua4wm"
   },
   "outputs": [],
   "source": [
    "# Setting the number of recommendation for each user\n",
    "recs = model.recommendForAllUsers(10)"
   ]
  },
  {
   "cell_type": "code",
   "execution_count": 21,
   "metadata": {
    "colab": {
     "base_uri": "https://localhost:8080/"
    },
    "id": "KL3mG0NPa6wS",
    "outputId": "118d0178-64ef-486d-ac69-e64401eef4c1"
   },
   "outputs": [
    {
     "name": "stderr",
     "output_type": "stream",
     "text": [
      "21/08/25 11:04:25 WARN org.apache.spark.scheduler.DAGScheduler: Broadcasting large task binary with size 2.7 MiB\n",
      "21/08/25 11:04:37 WARN org.apache.spark.scheduler.DAGScheduler: Broadcasting large task binary with size 2.6 MiB\n"
     ]
    },
    {
     "name": "stdout",
     "output_type": "stream",
     "text": [
      "+------+--------------------+\n",
      "|userId|     recommendations|\n",
      "+------+--------------------+\n",
      "|    26|[{1557, 7.892895E...|\n",
      "|    27|[{94, 5.3530466E-...|\n",
      "|    28|[{1894, 1.5385688...|\n",
      "|    31|[{184, 3.8349317E...|\n",
      "|    34|[{106, 0.00219554...|\n",
      "|    44|[{1275, 0.0020747...|\n",
      "|    53|[{2274, 3.0181627...|\n",
      "|    65|[{94, 0.002185601...|\n",
      "|    76|[{2274, 0.0020753...|\n",
      "|    78|[{2235, 1.9021292...|\n",
      "|    81|[{186, 8.487442E-...|\n",
      "|    85|[{2274, 0.0150190...|\n",
      "|   101|[{184, 0.00187146...|\n",
      "|   103|[{2692, 0.0028457...|\n",
      "|   108|[{184, 9.340032E-...|\n",
      "|   115|[{94, 6.849583E-4...|\n",
      "|   126|[{184, 8.287635E-...|\n",
      "|   133|[{504, 3.6201422E...|\n",
      "|   137|[{1275, 2.4632268...|\n",
      "|   148|[{274, 6.408463E-...|\n",
      "+------+--------------------+\n",
      "only showing top 20 rows\n",
      "\n",
      "Time taken is 12.081494808197021 seconds\n"
     ]
    },
    {
     "name": "stderr",
     "output_type": "stream",
     "text": [
      "                                                                                \r"
     ]
    }
   ],
   "source": [
    "# Shows top 20 recommendations\n",
    "@time_decorator\n",
    "def time_taken_in_show(recs):\n",
    "  recs.show()\n",
    "\n",
    "time_taken_in_show(recs)"
   ]
  },
  {
   "cell_type": "code",
   "execution_count": 22,
   "metadata": {
    "colab": {
     "base_uri": "https://localhost:8080/"
    },
    "id": "PalF23iXbAdl",
    "outputId": "bc93bd02-1aba-41cd-f93f-f9639b7aedc2"
   },
   "outputs": [
    {
     "name": "stderr",
     "output_type": "stream",
     "text": [
      "21/08/25 11:04:37 WARN org.apache.spark.scheduler.DAGScheduler: Broadcasting large task binary with size 2.7 MiB\n",
      "21/08/25 11:04:45 WARN org.apache.spark.scheduler.DAGScheduler: Broadcasting large task binary with size 2.6 MiB\n"
     ]
    },
    {
     "name": "stdout",
     "output_type": "stream",
     "text": [
      "[Row(userId=26, recommendations=[Row(songId=1557, rating=7.892894791439176e-05), Row(songId=523, rating=6.59940269542858e-05), Row(songId=1894, rating=4.8689496907172725e-05), Row(songId=2300, rating=3.501340688671917e-05), Row(songId=1941, rating=3.4962762583745643e-05), Row(songId=1154, rating=3.467759961495176e-05), Row(songId=1205, rating=3.246560299885459e-05), Row(songId=2977, rating=3.1462415790883824e-05), Row(songId=1301, rating=3.097360240644775e-05), Row(songId=25, rating=2.8987940822844394e-05)])]\n",
      "Time taken is 8.038089513778687 seconds\n"
     ]
    },
    {
     "name": "stderr",
     "output_type": "stream",
     "text": [
      "                                                                                \r"
     ]
    }
   ],
   "source": [
    "# Shows top recommendation with full details\n",
    "@time_decorator\n",
    "def time_taken_in_take(recs):\n",
    "  print(recs.take(1))\n",
    "\n",
    "time_taken_in_take(recs)"
   ]
  }
 ],
 "metadata": {
  "accelerator": "GPU",
  "colab": {
   "collapsed_sections": [],
   "name": "music_rcs_local_crossjoin.ipynb",
   "provenance": []
  },
  "kernelspec": {
   "display_name": "Python 3",
   "language": "python",
   "name": "python3"
  },
  "language_info": {
   "codemirror_mode": {
    "name": "ipython",
    "version": 3
   },
   "file_extension": ".py",
   "mimetype": "text/x-python",
   "name": "python",
   "nbconvert_exporter": "python",
   "pygments_lexer": "ipython3",
   "version": "3.8.5"
  }
 },
 "nbformat": 4,
 "nbformat_minor": 1
}
