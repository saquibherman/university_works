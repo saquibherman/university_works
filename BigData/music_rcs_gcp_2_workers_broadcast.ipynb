{
 "cells": [
  {
   "cell_type": "markdown",
   "metadata": {},
   "source": [
    "# Music Recommendation System run on GCP with 2 nodes"
   ]
  },
  {
   "cell_type": "code",
   "execution_count": 1,
   "metadata": {},
   "outputs": [
    {
     "name": "stdout",
     "output_type": "stream",
     "text": [
      "Defaulting to user installation because normal site-packages is not writeable\n",
      "Requirement already satisfied: pyspark in /usr/lib/spark/python (3.1.2)\n",
      "Requirement already satisfied: py4j==0.10.9 in /opt/conda/miniconda3/lib/python3.8/site-packages (from pyspark) (0.10.9)\n"
     ]
    }
   ],
   "source": [
    "# Install pySpark\n",
    "!pip install pyspark"
   ]
  },
  {
   "cell_type": "code",
   "execution_count": 2,
   "metadata": {
    "id": "nm5mbVGiaLQN"
   },
   "outputs": [
    {
     "name": "stderr",
     "output_type": "stream",
     "text": [
      "Setting default log level to \"WARN\".\n",
      "To adjust logging level use sc.setLogLevel(newLevel). For SparkR, use setLogLevel(newLevel).\n"
     ]
    }
   ],
   "source": [
    "from pyspark import SparkContext, SparkConf\n",
    "conf = SparkConf().setAppName('pyspark-shell')\n",
    "sc = SparkContext(conf=conf)"
   ]
  },
  {
   "cell_type": "code",
   "execution_count": 3,
   "metadata": {
    "colab": {
     "base_uri": "https://localhost:8080/"
    },
    "id": "1fgk6yfpaLQO",
    "outputId": "cfcd141e-ec6b-4f31-95d5-dbaa59f4ffeb"
   },
   "outputs": [
    {
     "name": "stdout",
     "output_type": "stream",
     "text": [
      "<SparkContext master=yarn appName=pyspark-shell>\n",
      "3.1.2\n"
     ]
    }
   ],
   "source": [
    "# Verify SparkContext\n",
    "print(sc)\n",
    "\n",
    "# Print Spark version\n",
    "print(sc.version)"
   ]
  },
  {
   "cell_type": "code",
   "execution_count": 4,
   "metadata": {
    "colab": {
     "base_uri": "https://localhost:8080/"
    },
    "id": "596SZ4EuaLQO",
    "outputId": "6a9abc40-2193-4fa1-c2a7-9cf9edaa2677"
   },
   "outputs": [
    {
     "name": "stdout",
     "output_type": "stream",
     "text": [
      "<pyspark.sql.session.SparkSession object at 0x7f41c03e6880>\n"
     ]
    }
   ],
   "source": [
    "# Import SparkSession from pyspark.sql\n",
    "from pyspark.sql import SparkSession\n",
    "\n",
    "# Create spark\n",
    "spark = SparkSession.builder.getOrCreate()\n",
    "\n",
    "spark.conf.set(\"spark.sql.adaptive.enabled\",True)\n",
    "spark.conf.set(\"spark.sql.adaptive.skewJoin.enabled\",True)\n",
    "spark.conf.set(\"spark.sql.autoBroadcastJoinThreshold\",104857600)\n",
    "# spark.conf.set(\"spark.sql.join.preferSortMergeJoin\", True)\n",
    "# spark.conf.set(\"spark.sql.shuffle.partitions\", 500)\n",
    "# spark.conf.set(\"spark.sql.files.minPartitionNum\", 400)\n",
    "# spark.conf.set('spark.sql.adaptive.advisoryPartitionSizeInBytes',134217728)\n",
    "# spark.conf.set('spark.sql.adaptive.coalescePartitions.initialPartitionNum',1000)\n",
    "# spark.conf.set('spark.sql.files.maxPartitionBytes',67108864)\n",
    "\n",
    "# Print spark\n",
    "print(spark)"
   ]
  },
  {
   "cell_type": "code",
   "execution_count": 5,
   "metadata": {},
   "outputs": [
    {
     "name": "stdout",
     "output_type": "stream",
     "text": [
      "104857600\n",
      "200\n",
      "None\n",
      "67108864b\n",
      "true\n",
      "134217728b\n"
     ]
    }
   ],
   "source": [
    "print(spark.conf.get('spark.sql.autoBroadcastJoinThreshold'))\n",
    "print(spark.conf.get('spark.sql.shuffle.partitions'))\n",
    "print(spark.conf.get('spark.sql.files.minPartitionNum'))\n",
    "print(spark.conf.get('spark.sql.adaptive.advisoryPartitionSizeInBytes'))\n",
    "print(spark.conf.get('spark.sql.adaptive.localShuffleReader.enabled'))\n",
    "print(spark.conf.get('spark.sql.files.maxPartitionBytes'))\n"
   ]
  },
  {
   "cell_type": "code",
   "execution_count": 6,
   "metadata": {
    "id": "Yb8gEREXaLQP"
   },
   "outputs": [],
   "source": [
    "# import required libraries\n",
    "from pyspark.sql import SparkSession\n",
    "from pyspark.sql.functions import count, desc , col, max, monotonically_increasing_id\n",
    "from pyspark.ml.feature import  StringIndexer\n",
    "from pyspark.ml import Pipeline\n",
    "from pyspark.ml.recommendation import ALS\n",
    "from pyspark.ml.tuning import TrainValidationSplit, ParamGridBuilder"
   ]
  },
  {
   "cell_type": "code",
   "execution_count": 7,
   "metadata": {
    "colab": {
     "base_uri": "https://localhost:8080/"
    },
    "id": "3yIDBGJdwtZ-",
    "outputId": "2e218e95-ab11-4d8f-95ec-517f3de4fea4"
   },
   "outputs": [
    {
     "name": "stderr",
     "output_type": "stream",
     "text": [
      "                                                                                \r"
     ]
    }
   ],
   "source": [
    "# Read triplets\n",
    "file_path = 'gs://saqher20_bdpp_bucket1/triplet.csv'\n",
    "triplets = spark.read.format('csv').option('delimiter',\";\").option('header',True).option('inferSchema',True).load(file_path)"
   ]
  },
  {
   "cell_type": "code",
   "execution_count": 8,
   "metadata": {},
   "outputs": [],
   "source": [
    "# Get active users\n",
    "active_users = triplets.groupBy('user').count().select('user', col('count').alias('n'))\n",
    "active_users = active_users.select('user').filter(active_users.n > 10)\n",
    "\n",
    "# Get popular songs\n",
    "popular_songs = triplets.groupBy('song').count().select('song', col('count').alias('n'))\n",
    "popular_songs = popular_songs.select('song').filter(popular_songs.n > 50)"
   ]
  },
  {
   "cell_type": "code",
   "execution_count": 9,
   "metadata": {},
   "outputs": [],
   "source": [
    "users_songs = active_users.crossJoin(popular_songs)"
   ]
  },
  {
   "cell_type": "code",
   "execution_count": 10,
   "metadata": {},
   "outputs": [],
   "source": [
    "from pyspark.sql.functions import broadcast\n",
    "\n",
    "df = users_songs.join(triplets, [\"user\", \"song\"], \"left\").fillna(0)"
   ]
  },
  {
   "cell_type": "code",
   "execution_count": 11,
   "metadata": {},
   "outputs": [
    {
     "name": "stderr",
     "output_type": "stream",
     "text": [
      "[Stage 14:===========================================>              (3 + 1) / 4]\r"
     ]
    },
    {
     "name": "stdout",
     "output_type": "stream",
     "text": [
      "+-----------+--------+\n",
      "|partitionId|   count|\n",
      "+-----------+--------+\n",
      "|          1|28525906|\n",
      "|          3|31302052|\n",
      "|          4| 1569126|\n",
      "|          2|30819244|\n",
      "|          0|30698542|\n",
      "+-----------+--------+\n",
      "\n"
     ]
    },
    {
     "name": "stderr",
     "output_type": "stream",
     "text": [
      "                                                                                \r"
     ]
    }
   ],
   "source": [
    "from pyspark.sql.functions import spark_partition_id\n",
    "\n",
    "df_with_partition_id = df.withColumn(\"partitionId\", spark_partition_id()).groupBy(\"partitionId\").count()\n",
    "df_with_partition_id.show()\n",
    "\n"
   ]
  },
  {
   "cell_type": "code",
   "execution_count": 12,
   "metadata": {},
   "outputs": [
    {
     "name": "stderr",
     "output_type": "stream",
     "text": [
      "                                                                                \r"
     ]
    },
    {
     "data": {
      "text/plain": [
       "<AxesSubplot:xlabel='partitionId'>"
      ]
     },
     "execution_count": 12,
     "metadata": {},
     "output_type": "execute_result"
    },
    {
     "data": {
      "image/png": "[encoded data removed]",
      "text/plain": [
       "<Figure size 720x576 with 1 Axes>"
      ]
     },
     "metadata": {
      "needs_background": "light"
     },
     "output_type": "display_data"
    }
   ],
   "source": [
    "pdf =df_with_partition_id.toPandas()\n",
    "pdf.plot(x='partitionId', y=['count'], kind='bar', figsize=(10,8))"
   ]
  },
  {
   "cell_type": "code",
   "execution_count": 13,
   "metadata": {},
   "outputs": [
    {
     "name": "stderr",
     "output_type": "stream",
     "text": [
      "                                                                                \r"
     ]
    },
    {
     "name": "stdout",
     "output_type": "stream",
     "text": [
      "Time take is 66.919362783432 seconds\n"
     ]
    }
   ],
   "source": [
    "# Convert string to indexes\n",
    "import time\n",
    "from pyspark.ml import Pipeline\n",
    "from pyspark.ml.feature import StringIndexer\n",
    "\n",
    "start = time.time()\n",
    "indexers = [StringIndexer(inputCol=column, outputCol=column+\"Id\").fit(df) for column in list(set(df.columns)-set(['num_plays'])) ]\n",
    "pipeline = Pipeline(stages=indexers)\n",
    "df = pipeline.fit(df).transform(df)\n",
    "\n",
    "end = time.time()\n",
    "print(\"Time take is {} seconds\".format(end-start))"
   ]
  },
  {
   "cell_type": "code",
   "execution_count": 14,
   "metadata": {
    "id": "-MmC4LNVaLQQ"
   },
   "outputs": [],
   "source": [
    "# Select desired columns for ALS\n",
    "df = df.select(['userId','songId', 'num_plays'])"
   ]
  },
  {
   "cell_type": "code",
   "execution_count": 15,
   "metadata": {
    "id": "bkSCwp11ydr2"
   },
   "outputs": [],
   "source": [
    "# Change the data type of columns for ALS (double --> integer)\n",
    "from pyspark.sql.types import IntegerType\n",
    "\n",
    "df = df.withColumn(\"userId\",df[\"userId\"].cast(IntegerType()))\n",
    "df = df.withColumn(\"songId\",df[\"songId\"].cast(IntegerType()))"
   ]
  },
  {
   "cell_type": "code",
   "execution_count": 16,
   "metadata": {
    "id": "H1952JCwZ_vm"
   },
   "outputs": [],
   "source": [
    "# Order by userId\n",
    "df = df.orderBy('userId')"
   ]
  },
  {
   "cell_type": "code",
   "execution_count": 17,
   "metadata": {
    "id": "C28DgVEMaXy9"
   },
   "outputs": [],
   "source": [
    "# Random split into training and test sets\n",
    "(training, test) = df.randomSplit([0.5,0.5])"
   ]
  },
  {
   "cell_type": "code",
   "execution_count": 18,
   "metadata": {
    "id": "726Vq7aD18gs"
   },
   "outputs": [],
   "source": [
    "# Decorator for time analysis\n",
    "def time_decorator(my_func):\n",
    "    def modified_func(*args, **kwargs):\n",
    "        start = time.time()\n",
    "        my_func(*args, **kwargs)\n",
    "        end = time.time()\n",
    "        print(\"Time taken is {} seconds\".format(end - start))\n",
    "    return modified_func"
   ]
  },
  {
   "cell_type": "code",
   "execution_count": 19,
   "metadata": {
    "colab": {
     "base_uri": "https://localhost:8080/"
    },
    "id": "35W1cXB6adRv",
    "outputId": "514d78e5-bd1f-4967-e1a4-879e10cd7de5"
   },
   "outputs": [
    {
     "name": "stderr",
     "output_type": "stream",
     "text": [
      "21/08/25 10:49:33 WARN org.apache.spark.scheduler.DAGScheduler: Broadcasting large task binary with size 2.6 MiB\n",
      "21/08/25 10:50:14 WARN org.apache.spark.scheduler.DAGScheduler: Broadcasting large task binary with size 2.6 MiB\n",
      "21/08/25 10:51:29 WARN org.apache.spark.scheduler.DAGScheduler: Broadcasting large task binary with size 2.6 MiB\n",
      "21/08/25 10:51:34 WARN org.apache.spark.scheduler.DAGScheduler: Broadcasting large task binary with size 2.6 MiB\n",
      "21/08/25 10:51:40 WARN org.apache.spark.scheduler.DAGScheduler: Broadcasting large task binary with size 2.6 MiB\n",
      "21/08/25 10:51:42 WARN org.apache.spark.scheduler.DAGScheduler: Broadcasting large task binary with size 2.6 MiB\n",
      "21/08/25 10:51:53 WARN org.apache.spark.scheduler.DAGScheduler: Broadcasting large task binary with size 2.6 MiB\n",
      "21/08/25 10:51:53 WARN org.apache.spark.scheduler.DAGScheduler: Broadcasting large task binary with size 2.6 MiB\n",
      "21/08/25 10:51:57 WARN org.apache.spark.scheduler.DAGScheduler: Broadcasting large task binary with size 2.6 MiB\n",
      "21/08/25 10:52:00 WARN org.apache.spark.scheduler.DAGScheduler: Broadcasting large task binary with size 2.6 MiB\n",
      "                                                                                \r"
     ]
    },
    {
     "name": "stdout",
     "output_type": "stream",
     "text": [
      "Time take is 171.77457189559937 seconds\n"
     ]
    }
   ],
   "source": [
    "# Creating the ALS mode\n",
    "USERID = 'userId'\n",
    "TRACK = 'songId'\n",
    "COUNT = 'num_plays'\n",
    "\n",
    "start = time.time()\n",
    "als = ALS(maxIter=1, regParam=0.01, userCol=USERID, itemCol = TRACK, ratingCol = COUNT)\n",
    "model = als.fit(training)\n",
    "predictions = model.transform(test)\n",
    "end = time.time()\n",
    "\n",
    "print(\"Time take is {} seconds\".format(end-start))"
   ]
  },
  {
   "cell_type": "code",
   "execution_count": 20,
   "metadata": {
    "id": "FzVT8M_Ua4wm"
   },
   "outputs": [],
   "source": [
    "# Setting the number of recommendation for each user\n",
    "recs = model.recommendForAllUsers(10)"
   ]
  },
  {
   "cell_type": "code",
   "execution_count": 21,
   "metadata": {
    "colab": {
     "base_uri": "https://localhost:8080/"
    },
    "id": "KL3mG0NPa6wS",
    "outputId": "118d0178-64ef-486d-ac69-e64401eef4c1"
   },
   "outputs": [
    {
     "name": "stderr",
     "output_type": "stream",
     "text": [
      "21/08/25 10:52:04 WARN org.apache.spark.scheduler.DAGScheduler: Broadcasting large task binary with size 2.7 MiB\n",
      "21/08/25 10:52:20 WARN org.apache.spark.scheduler.DAGScheduler: Broadcasting large task binary with size 2.6 MiB\n"
     ]
    },
    {
     "name": "stdout",
     "output_type": "stream",
     "text": [
      "+------+--------------------+\n",
      "|userId|     recommendations|\n",
      "+------+--------------------+\n",
      "|    26|[{2544, 4.717321E...|\n",
      "|    27|[{184, 2.6721763E...|\n",
      "|    28|[{94, 1.4947011E-...|\n",
      "|    31|[{2598, 0.0017437...|\n",
      "|    34|[{2274, 1.6038211...|\n",
      "|    44|[{364, 9.600844E-...|\n",
      "|    53|[{0, 0.0}, {10, 0...|\n",
      "|    65|[{184, 0.00696615...|\n",
      "|    76|[{184, 0.01761331...|\n",
      "|    78|[{94, 7.895238E-4...|\n",
      "|    81|[{2544, 1.3678122...|\n",
      "|    85|[{94, 0.01109137}...|\n",
      "|   101|[{297, 6.172567E-...|\n",
      "|   103|[{94, 0.001170287...|\n",
      "|   108|[{364, 8.930477E-...|\n",
      "|   115|[{1557, 4.46223E-...|\n",
      "|   126|[{0, 0.0}, {10, 0...|\n",
      "|   133|[{94, 5.764078E-4...|\n",
      "|   137|[{184, 9.95088E-4...|\n",
      "|   148|[{94, 0.011536933...|\n",
      "+------+--------------------+\n",
      "only showing top 20 rows\n",
      "\n",
      "Time taken is 16.49300718307495 seconds\n"
     ]
    },
    {
     "name": "stderr",
     "output_type": "stream",
     "text": [
      "                                                                                \r"
     ]
    }
   ],
   "source": [
    "# Shows top 20 recommendations\n",
    "@time_decorator\n",
    "def time_taken_in_show(recs):\n",
    "  recs.show()\n",
    "\n",
    "time_taken_in_show(recs)"
   ]
  },
  {
   "cell_type": "code",
   "execution_count": 22,
   "metadata": {
    "colab": {
     "base_uri": "https://localhost:8080/"
    },
    "id": "PalF23iXbAdl",
    "outputId": "bc93bd02-1aba-41cd-f93f-f9639b7aedc2"
   },
   "outputs": [
    {
     "name": "stderr",
     "output_type": "stream",
     "text": [
      "21/08/25 10:52:21 WARN org.apache.spark.scheduler.DAGScheduler: Broadcasting large task binary with size 2.7 MiB\n",
      "21/08/25 10:52:28 WARN org.apache.spark.scheduler.DAGScheduler: Broadcasting large task binary with size 2.6 MiB\n"
     ]
    },
    {
     "name": "stdout",
     "output_type": "stream",
     "text": [
      "[Row(userId=26, recommendations=[Row(songId=2544, rating=4.717320916824974e-05), Row(songId=2088, rating=4.189285755273886e-05), Row(songId=504, rating=3.339628528920002e-05), Row(songId=2475, rating=2.526018761273008e-05), Row(songId=1336, rating=2.449543899274431e-05), Row(songId=1652, rating=2.1626765374094248e-05), Row(songId=1323, rating=1.8783879568218254e-05), Row(songId=658, rating=1.8740282030194066e-05), Row(songId=1574, rating=1.5844983863644302e-05), Row(songId=1183, rating=1.550177694298327e-05)])]\n",
      "Time taken is 7.5733349323272705 seconds\n"
     ]
    },
    {
     "name": "stderr",
     "output_type": "stream",
     "text": [
      "                                                                                \r"
     ]
    }
   ],
   "source": [
    "# Shows top recommendation with full details\n",
    "@time_decorator\n",
    "def time_taken_in_take(recs):\n",
    "  print(recs.take(1))\n",
    "\n",
    "time_taken_in_take(recs)"
   ]
  }
 ],
 "metadata": {
  "accelerator": "GPU",
  "colab": {
   "collapsed_sections": [],
   "name": "music_rcs_local_crossjoin.ipynb",
   "provenance": []
  },
  "kernelspec": {
   "display_name": "Python 3",
   "language": "python",
   "name": "python3"
  },
  "language_info": {
   "codemirror_mode": {
    "name": "ipython",
    "version": 3
   },
   "file_extension": ".py",
   "mimetype": "text/x-python",
   "name": "python",
   "nbconvert_exporter": "python",
   "pygments_lexer": "ipython3",
   "version": "3.8.5"
  }
 },
 "nbformat": 4,
 "nbformat_minor": 1
}
